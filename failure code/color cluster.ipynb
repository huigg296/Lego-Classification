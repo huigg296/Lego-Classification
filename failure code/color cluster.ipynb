{
 "cells": [
  {
   "cell_type": "code",
   "execution_count": null,
   "metadata": {},
   "outputs": [],
   "source": [
    "# 用LAB进行阈值分割\n",
    "import numpy as np\n",
    "from matplotlib import pyplot as plt\n",
    "import cv2\n",
    "\n",
    "image = cv2.imread(\"../test_images/5.jpg\")\n",
    "lab_image = cv2.cvtColor(image, cv2.COLOR_BGR2LAB)\n"
   ]
  }
 ],
 "metadata": {
  "language_info": {
   "name": "python"
  }
 },
 "nbformat": 4,
 "nbformat_minor": 2
}
